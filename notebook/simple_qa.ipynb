{
 "cells": [
  {
   "cell_type": "code",
   "execution_count": 5,
   "id": "46f6a016-3df9-43b7-bda1-4875b3166f3a",
   "metadata": {},
   "outputs": [
    {
     "name": "stdout",
     "output_type": "stream",
     "text": [
      "Requirement already satisfied: transformers in /Users/cmadison/dev/aiml/ex-bert-py/venv/lib/python3.13/site-packages (4.47.1)\n",
      "Requirement already satisfied: filelock in /Users/cmadison/dev/aiml/ex-bert-py/venv/lib/python3.13/site-packages (from transformers) (3.16.1)\n",
      "Requirement already satisfied: huggingface-hub<1.0,>=0.24.0 in /Users/cmadison/dev/aiml/ex-bert-py/venv/lib/python3.13/site-packages (from transformers) (0.27.1)\n",
      "Requirement already satisfied: numpy>=1.17 in /Users/cmadison/dev/aiml/ex-bert-py/venv/lib/python3.13/site-packages (from transformers) (2.2.1)\n",
      "Requirement already satisfied: packaging>=20.0 in /Users/cmadison/dev/aiml/ex-bert-py/venv/lib/python3.13/site-packages (from transformers) (24.2)\n",
      "Requirement already satisfied: pyyaml>=5.1 in /Users/cmadison/dev/aiml/ex-bert-py/venv/lib/python3.13/site-packages (from transformers) (6.0.2)\n",
      "Requirement already satisfied: regex!=2019.12.17 in /Users/cmadison/dev/aiml/ex-bert-py/venv/lib/python3.13/site-packages (from transformers) (2024.11.6)\n",
      "Requirement already satisfied: requests in /Users/cmadison/dev/aiml/ex-bert-py/venv/lib/python3.13/site-packages (from transformers) (2.32.3)\n",
      "Requirement already satisfied: tokenizers<0.22,>=0.21 in /Users/cmadison/dev/aiml/ex-bert-py/venv/lib/python3.13/site-packages (from transformers) (0.21.0)\n",
      "Requirement already satisfied: safetensors>=0.4.1 in /Users/cmadison/dev/aiml/ex-bert-py/venv/lib/python3.13/site-packages (from transformers) (0.5.1)\n",
      "Requirement already satisfied: tqdm>=4.27 in /Users/cmadison/dev/aiml/ex-bert-py/venv/lib/python3.13/site-packages (from transformers) (4.67.1)\n",
      "Requirement already satisfied: fsspec>=2023.5.0 in /Users/cmadison/dev/aiml/ex-bert-py/venv/lib/python3.13/site-packages (from huggingface-hub<1.0,>=0.24.0->transformers) (2024.12.0)\n",
      "Requirement already satisfied: typing-extensions>=3.7.4.3 in /Users/cmadison/dev/aiml/ex-bert-py/venv/lib/python3.13/site-packages (from huggingface-hub<1.0,>=0.24.0->transformers) (4.12.2)\n",
      "Requirement already satisfied: charset-normalizer<4,>=2 in /Users/cmadison/dev/aiml/ex-bert-py/venv/lib/python3.13/site-packages (from requests->transformers) (3.4.1)\n",
      "Requirement already satisfied: idna<4,>=2.5 in /Users/cmadison/dev/aiml/ex-bert-py/venv/lib/python3.13/site-packages (from requests->transformers) (3.10)\n",
      "Requirement already satisfied: urllib3<3,>=1.21.1 in /Users/cmadison/dev/aiml/ex-bert-py/venv/lib/python3.13/site-packages (from requests->transformers) (2.3.0)\n",
      "Requirement already satisfied: certifi>=2017.4.17 in /Users/cmadison/dev/aiml/ex-bert-py/venv/lib/python3.13/site-packages (from requests->transformers) (2024.12.14)\n",
      "Note: you may need to restart the kernel to use updated packages.\n"
     ]
    }
   ],
   "source": [
    "%pip install transformers\n",
    "\n",
    "from transformers import pipeline\n"
   ]
  },
  {
   "cell_type": "code",
   "execution_count": 6,
   "id": "1cc8789b-2507-4001-9660-9a0f903bdff9",
   "metadata": {},
   "outputs": [
    {
     "name": "stderr",
     "output_type": "stream",
     "text": [
      "No model was supplied, defaulted to distilbert/distilbert-base-cased-distilled-squad and revision 564e9b5 (https://huggingface.co/distilbert/distilbert-base-cased-distilled-squad).\n",
      "Using a pipeline without specifying a model name and revision in production is not recommended.\n",
      "Device set to use mps:0\n"
     ]
    }
   ],
   "source": [
    "# initialize the pipeline with a DistilBERT model\n",
    "classifier = pipeline(\"question-answering\")"
   ]
  },
  {
   "cell_type": "code",
   "execution_count": 7,
   "id": "1cf3f2cc",
   "metadata": {},
   "outputs": [
    {
     "name": "stdout",
     "output_type": "stream",
     "text": [
      "{'score': 0.9863281846046448, 'start': 25, 'end': 30, 'answer': 'Paris'}\n"
     ]
    }
   ],
   "source": [
    "# ask a question\n",
    "question = \"What is the capital of France?\"\n",
    "context = \"The capital of France is Paris.\"\n",
    "\n",
    "print(classifier(question=question, context=context))"
   ]
  },
  {
   "cell_type": "code",
   "execution_count": 8,
   "id": "a2987143",
   "metadata": {},
   "outputs": [
    {
     "name": "stdout",
     "output_type": "stream",
     "text": [
      "{'score': 0.9848850965499878, 'start': 56, 'end': 60, 'answer': '1965'}\n"
     ]
    }
   ],
   "source": [
    "# ask another quesiton\n",
    "question = \"When was Pink Floyd formed?\"\n",
    "context = \"Pink Floyd was an English rock band formed in London in 1965.\"\n",
    "\n",
    "print(classifier(question=question, context=context))"
   ]
  }
 ],
 "metadata": {
  "kernelspec": {
   "display_name": "venv",
   "language": "python",
   "name": "python3"
  },
  "language_info": {
   "codemirror_mode": {
    "name": "ipython",
    "version": 3
   },
   "file_extension": ".py",
   "mimetype": "text/x-python",
   "name": "python",
   "nbconvert_exporter": "python",
   "pygments_lexer": "ipython3",
   "version": "3.13.1"
  }
 },
 "nbformat": 4,
 "nbformat_minor": 5
}
